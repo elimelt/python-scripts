{
  "nbformat": 4,
  "nbformat_minor": 0,
  "metadata": {
    "colab": {
      "provenance": [],
      "authorship_tag": "ABX9TyMmO1UGrlVq0pbsl233szZ8",
      "include_colab_link": true
    },
    "kernelspec": {
      "name": "python3",
      "display_name": "Python 3"
    },
    "language_info": {
      "name": "python"
    }
  },
  "cells": [
    {
      "cell_type": "markdown",
      "metadata": {
        "id": "view-in-github",
        "colab_type": "text"
      },
      "source": [
        "<a href=\"https://colab.research.google.com/github/elimelt/python-scripts/blob/main/cool-algorithms/greedy.ipynb\" target=\"_parent\"><img src=\"https://colab.research.google.com/assets/colab-badge.svg\" alt=\"Open In Colab\"/></a>"
      ]
    },
    {
      "cell_type": "code",
      "execution_count": 6,
      "metadata": {
        "id": "EDPtkQUll83c"
      },
      "outputs": [],
      "source": [
        "import random\n",
        "\n",
        "# data generation utils for testing...\n",
        "\n",
        "\n",
        "def random_intervals(n, l, h):\n",
        "  res = []\n",
        "  for _ in range(n):\n",
        "    s = random.randint(l, h - 1)\n",
        "    e = random.randint(s + 1, h)\n",
        "    res.append((s, e))\n",
        "  return res\n",
        "\n",
        "def random_list(n, l, h):\n",
        "  return [random.randint(l, h) for _ in range(n)]"
      ]
    },
    {
      "cell_type": "code",
      "source": [
        "# Have you ever wondered why partitioning intervals\n",
        "# based on increasing start time works, but increasing\n",
        "# finish time doesn't? Perhaps you tried to find an\n",
        "# example where finishing times would yield incorrect\n",
        "# results?\n",
        "\n",
        "# If this is you, then look no further, for I've written\n",
        "# the code to find such a counter example for you!\n",
        "\n",
        "# [(0, 1), (0, 3), (4, 5), (2, 5)]\n",
        "\n",
        "def is_overlapping(i1, i2):\n",
        "  start1, end1 = i1\n",
        "  start2, end2 = i2\n",
        "  return max(start1, start2) < min(end1, end2)\n",
        "\n",
        "def partition_correct(I):\n",
        "  res = []\n",
        "  I.sort(key=lambda i: i[0])\n",
        "  R = []\n",
        "\n",
        "  for i in I:\n",
        "    found = False\n",
        "    for j, r in enumerate(R):\n",
        "      if not is_overlapping(i, r):\n",
        "        res[j].append(tuple(i))\n",
        "        mi = min(R[j][0], i[0])\n",
        "        ma = max(R[j][1], i[1])\n",
        "        R[j] = (mi, ma)\n",
        "        found = True\n",
        "\n",
        "    if not found:\n",
        "      res.append([tuple(i)])\n",
        "      R.append(tuple(i))\n",
        "  return res\n",
        "\n",
        "def partition_incorrect(I):\n",
        "  res = []\n",
        "  I.sort(key=lambda i: i[1])\n",
        "  R = []\n",
        "\n",
        "  for i in I:\n",
        "    found = False\n",
        "    for j, r in enumerate(R):\n",
        "      if not is_overlapping(i, r):\n",
        "        res[j].append(tuple(i))\n",
        "        mi = min(R[j][0], i[0])\n",
        "        ma = max(R[j][1], i[1])\n",
        "        R[j] = (mi, ma)\n",
        "        found = True\n",
        "\n",
        "    if not found:\n",
        "      res.append([tuple(i)])\n",
        "      R.append(tuple(i))\n",
        "  return res\n",
        "\n",
        "def find_counterexample():\n",
        "  while True:\n",
        "    I = random_intervals(4, 0, 5)\n",
        "    c = partition_correct(I)\n",
        "    w = partition_incorrect(I)\n",
        "    if len(c) != len(w):\n",
        "      print(f\"found counterexample: {I}\")\n",
        "      return I"
      ],
      "metadata": {
        "colab": {
          "base_uri": "https://localhost:8080/"
        },
        "id": "kTYQJopqmi2w",
        "outputId": "fe9c04b8-da55-4464-f412-7a5ac05278c8"
      },
      "execution_count": 7,
      "outputs": [
        {
          "output_type": "stream",
          "name": "stdout",
          "text": [
            "found counterexample: [(0, 2), (1, 3), (3, 4), (2, 5)]\n"
          ]
        }
      ]
    },
    {
      "cell_type": "code",
      "source": [
        "# Given an array A of even length, returns\n",
        "# the minimum maximum pair sum for all\n",
        "# possible pairings of numbers in A\n",
        "def greedy_min_max_pairs(A):\n",
        "  assert(len(A) % 2 == 0)\n",
        "\n",
        "  A.sort()\n",
        "\n",
        "  l, r = 0, len(A) - 1\n",
        "  res = -float('inf')\n",
        "  while l < r:\n",
        "    res = max(res, A[l] + A[r])\n",
        "    l += 1\n",
        "    r -= 1\n",
        "  return res"
      ],
      "metadata": {
        "id": "N2elv_DMm-Bc"
      },
      "execution_count": null,
      "outputs": []
    },
    {
      "cell_type": "code",
      "source": [
        "from itertools import combinations\n",
        "\n",
        "# People that prove greedy algorithm correctness\n",
        "# are insane. Before embarking on such a horrible\n",
        "# journey, I want to be reasonably sure my\n",
        "# algorithm is correct.\n",
        "\n",
        "\n",
        "# Generator for all possible pairings of a given list\n",
        "def all_pairs(lst):\n",
        "    if len(lst) < 2:\n",
        "        yield []\n",
        "        return\n",
        "    if len(lst) % 2 == 1:\n",
        "        for i in range(len(lst)):\n",
        "            for result in all_pairs(lst[:i] + lst[i+1:]):\n",
        "                yield result\n",
        "    else:\n",
        "        a = lst[0]\n",
        "        for i in range(1,len(lst)):\n",
        "            pair = (a,lst[i])\n",
        "            for rest in all_pairs(lst[1:i]+lst[i+1:]):\n",
        "                yield [pair] + rest\n",
        "\n",
        "# Brute force calculation of the min max sum pairs\n",
        "# Definitely has an exponential runtime...\n",
        "def brute_force_min_max_pairs(A):\n",
        "    allpairs = all_pairs(A)\n",
        "    res = float('inf')\n",
        "    for pairs in allpairs:\n",
        "      curr = -float('inf')\n",
        "      for a, b in pairs:\n",
        "        curr = max(curr, a + b)\n",
        "\n",
        "      res = min(res, curr)\n",
        "\n",
        "    return res\n",
        "\n",
        "# Greedy version of the above algorithm\n",
        "# Runs in O(nlogn) 🥴\n",
        "def greedy_min_max_pairs(A):\n",
        "  A.sort()\n",
        "\n",
        "  l, r = 0, len(A) - 1\n",
        "  res = -float('inf')\n",
        "  while l < r:\n",
        "    res = max(res, A[l] + A[r])\n",
        "    l += 1\n",
        "    r -= 1\n",
        "  return res"
      ],
      "metadata": {
        "id": "mugrLm6Y2gon"
      },
      "execution_count": 11,
      "outputs": []
    },
    {
      "cell_type": "code",
      "source": [
        "for n in range(2, 10, 2):\n",
        "  A = random_list(n, 0, n * 2)\n",
        "  g = greedy_min_max_pairs(A)\n",
        "  b = brute_force_min_max_pairs(A)\n",
        "  if g != b:\n",
        "    print(f'Oh no! Your fears were right; the greedy implementation is incorrect')\n",
        "    print(f'on the following example: {A}')\n",
        "    print(f'greedy outputted {g}, whereas the correct answer was {b}')"
      ],
      "metadata": {
        "id": "Y-4Tf5lUJ-Oc"
      },
      "execution_count": 12,
      "outputs": []
    }
  ]
}