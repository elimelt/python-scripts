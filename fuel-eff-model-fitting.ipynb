{
  "nbformat": 4,
  "nbformat_minor": 0,
  "metadata": {
    "colab": {
      "provenance": []
    },
    "kernelspec": {
      "name": "python3",
      "display_name": "Python 3"
    },
    "language_info": {
      "name": "python"
    }
  },
  "cells": [
    {
      "cell_type": "code",
      "execution_count": 1,
      "metadata": {
        "id": "qhAcpvgHCXf7"
      },
      "outputs": [],
      "source": [
        "def train(x, y, n=2):\n",
        "  V = np.vander(x, n+1, increasing=True)\n",
        "  Q, R = np.linalg.qr(V)\n",
        "  theta = np.linalg.solve(R, np.dot(Q.T, y))\n",
        "  return np.dot(V, theta)\n",
        "\n",
        "def find_theta(x_train, y_train, n=2):\n",
        "  V = np.vander(x_train, n+1, increasing=True)\n",
        "  Q, R = np.linalg.qr(V)\n",
        "  return np.linalg.solve(R, np.dot(Q.T, y_train))\n",
        "\n",
        "def predict(x_test, theta, n=2):\n",
        "  V = np.vander(x_test, n+1, increasing=True)\n",
        "  return np.dot(V, theta)\n",
        "\n",
        "def relative_error(y_pred, y): return (1/(np.linalg.norm(y)**2))*(np.linalg.norm(y_pred-y)**2)\n",
        "\n",
        "def new_relative_error(y_pred, y): \n",
        "  f = (1/(np.linalg.norm(y)**2))\n",
        "  you = 0\n",
        "  for i in range(len(y_pred)):\n",
        "    you += (y_pred[i]-y[i])**2\n",
        "  return f*you\n",
        "\n",
        "def validate_model(x_train, y_train, x_test, y_test, n=2):\n",
        "  theta = find_theta(x_train, y_train, n=n)\n",
        "  y_pred = predict(x_test, theta, n=n)\n",
        "  return relative_error(y_pred, y_test)\n",
        "\n",
        "def model(x_train, y_train, n=2):\n",
        "  theta = find_theta(x_train, y_train, n)\n",
        "  def y(x):\n",
        "    V = np.vander(x, n+1, increasing=True)\n",
        "    return np.dot(V, theta)\n",
        "  return y\n",
        "\n",
        "\n",
        "def build_V(x_train, n=2):\n",
        "  return np.vander(x_train, n+1, increasing=True)\n",
        "\n",
        "# builds matrix for 3.a, b, c\n",
        "def build_A(X, n=0, m=1):\n",
        "  A = np.zeros((len(X), 6))\n",
        "  for i in range(len(X)):\n",
        "    A[i] = np.array([1, X[i, n], X[i, m], X[i, n]*X[i, m], X[i, n]**2, X[i, m]**2])\n",
        "  return A\n",
        "\n",
        "# builds matrix for 3.d\n",
        "def build_B(X, n=0, m=1, k=2):\n",
        "  B = np.zeros((len(X), 7))\n",
        "  for i in range(len(X)):\n",
        "    B[i] = np.array([1, X[i, n], X[i, m], X[i, k], X[i, n]**2, X[i, m]**2, X[i, k]**2])\n",
        "  return B\n",
        "\n",
        "def find_theta_new(x_train, y_train, build, n=0, m=1, k=2):\n",
        "  if build == build_B: matrix = build(x_train, n=n, m=m, k=k)\n",
        "  else: matrix = build(x_train, n=n, m=m)\n",
        "  Q, R = np.linalg.qr(matrix)\n",
        "  return np.linalg.solve(R, np.dot(Q.T, y_train))\n",
        "\n",
        "def model_new(x_train, y_train, build = build_A, n=0, m=1, k=2):\n",
        "  theta = find_theta_new(x_train, y_train, build, n=n, m=m, k=k)\n",
        "  def y(x1, x2, x3=0):\n",
        "    if build == build_B: \n",
        "      vector = np.array([1, x1, x2, x3, x1**2, x2**2, x3**2])\n",
        "    else: \n",
        "      vector = np.array([1, x1, x2, x1*x2, x1**2, x2**2])\n",
        "    return np.dot(vector, theta)\n",
        "  return y"
      ]
    },
    {
      "cell_type": "code",
      "source": [],
      "metadata": {
        "id": "kzCnnuOOChTg"
      },
      "execution_count": null,
      "outputs": []
    }
  ]
}