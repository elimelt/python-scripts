{
  "nbformat": 4,
  "nbformat_minor": 0,
  "metadata": {
    "colab": {
      "provenance": []
    },
    "kernelspec": {
      "name": "python3",
      "display_name": "Python 3"
    },
    "language_info": {
      "name": "python"
    }
  },
  "cells": [
    {
      "cell_type": "code",
      "execution_count": 1,
      "metadata": {
        "id": "1JFl7jFhK90y"
      },
      "outputs": [],
      "source": [
        "# returns the svd (U, S, Vt) of the rank r matrix which from reducing A\n",
        "def reduced_svd(A, r):\n",
        "  U, s, V_T = np.linalg.svd(A)\n",
        "  U_r = U[:,:r]\n",
        "  V_T_r = V_T[:r, :]\n",
        "  S = np.zeros_like(A)\n",
        "  np.fill_diagonal(S, s)\n",
        "  S_r = S[0:r,:r]\n",
        "  return U_r, S_r, V_T_r \n",
        "\n",
        "# creates a matrix given its svd\n",
        "def create(U, S, V_T): return np.dot(U, np.dot(S, V_T))\n",
        "\n",
        "# finds the \"relative error\" of a rank reduction of A to Rank(A) = r\n",
        "def rel_error(A, r):\n",
        "  U, S, V_T = reduced_svd(A, r)\n",
        "  A_r = create(U, S, V_T)\n",
        "  nume = np.linalg.norm(A - A_r, 'fro')\n",
        "  denom = np.linalg.norm(A, 'fro')\n",
        "  return nume/denom"
      ]
    },
    {
      "cell_type": "code",
      "source": [
        "# given Matrix: A and desired relative error: target, returns the minimum rank: r\n",
        "def find_r(A, target):\n",
        "  error = 100\n",
        "  r = 20\n",
        "  while (error > target):\n",
        "    r += 1\n",
        "    U, s, Vt = np.linalg.svd(B)\n",
        "    S = np.zeros(B.shape)\n",
        "    np.fill_diagonal(S, s)\n",
        "    # U_r : m x r\n",
        "    U_r = U[:, :r]\n",
        "    # Vt_r : r x n\n",
        "    Vt_r = Vt[:r, :]\n",
        "    # S_r : r x r\n",
        "    S_r = S[:r, :r]\n",
        "    B_r = np.dot(U_r, np.dot(S_r, Vt_r))\n",
        "    error = np.linalg.norm(B_r - B)/np.linalg.norm(B)\n",
        "  return r"
      ],
      "metadata": {
        "id": "YaPbi3o3L0VO"
      },
      "execution_count": 2,
      "outputs": []
    },
    {
      "cell_type": "code",
      "source": [
        "# Computes the rank reduction of B to Rank(B) = r\n",
        "def B_r_equals(r):\n",
        "  U, s, Vt = np.linalg.svd(B)\n",
        "  S = np.zeros(B.shape)\n",
        "  np.fill_diagonal(S, s)\n",
        "\n",
        "  # U_r : m x r\n",
        "  U_r = U[:, :r]\n",
        "\n",
        "  # Vt_r : r x n\n",
        "  Vt_r = Vt[:r, :]\n",
        "\n",
        "  # S_r : r x r\n",
        "  S_r = S[:r, :r]\n",
        "\n",
        "  B_r = np.dot(U_r, np.dot(S_r, Vt_r))\n",
        "  return B_r\n",
        "\n",
        "# Computes the rank reduction of A to Rank(A) = r\n",
        "def A_r_equals(r):\n",
        "  U, s, Vt = np.linalg.svd(A)\n",
        "  S = np.zeros(A.shape)\n",
        "  np.fill_diagonal(S, s)\n",
        "\n",
        "  # U_r : m x r\n",
        "  U_r = U[:, :r]\n",
        "\n",
        "  # Vt_r : r x n\n",
        "  Vt_r = Vt[:r, :]\n",
        "\n",
        "  # S_r : r x r\n",
        "  S_r = S[:r, :r]\n",
        "\n",
        "  A_r = np.dot(U_r, np.dot(S_r, Vt_r))\n",
        "  return A_r\n"
      ],
      "metadata": {
        "id": "lDwUTqPwMLHX"
      },
      "execution_count": 3,
      "outputs": []
    },
    {
      "cell_type": "code",
      "source": [
        "# 1. Calculating the mean of the rows of A\n",
        "mean = list()\n",
        "for i in A.T: mean.append(i.mean())\n",
        "mean = np.array(mean)\n",
        "\n",
        "plt.imshow(mean.reshape((31, 23)), cmap = 'gray')\n",
        "plt.title('\"mean\" image')"
      ],
      "metadata": {
        "id": "3Bg07Q8vMRun"
      },
      "execution_count": 5,
      "outputs": []
    },
    {
      "cell_type": "code",
      "source": [
        "# 2. Calculate B = A - mean \n",
        "B = np.array([a_i - mean for a_i in A])"
      ],
      "metadata": {
        "id": "m2qDzzjqMWF2"
      },
      "execution_count": 6,
      "outputs": []
    }
  ]
}