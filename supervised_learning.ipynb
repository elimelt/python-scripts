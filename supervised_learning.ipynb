{
  "nbformat": 4,
  "nbformat_minor": 0,
  "metadata": {
    "colab": {
      "provenance": []
    },
    "kernelspec": {
      "name": "python3",
      "display_name": "Python 3"
    },
    "language_info": {
      "name": "python"
    }
  },
  "cells": [
    {
      "cell_type": "code",
      "execution_count": null,
      "metadata": {
        "id": "OhDMtMLsCPFv"
      },
      "outputs": [],
      "source": [
        "# returns a function that takes in training data and outputs calculated values \n",
        "# N: desired number of features to train with\n",
        "# X: training input data (can be any number of features)\n",
        "# Y: training output data \n",
        "def train(N, X, Y):\n",
        "  X_red = X[:, :N]\n",
        "  A = np.append(np.ones((len(X_red), 1)), X_red, axis = 1)\n",
        "  (Q, R) = np.linalg.qr(A)\n",
        "  a = np.linalg.solve(R, np.dot(Q.T, Y))\n",
        "  def output_function(x): \n",
        "    x_aug = np.append(np.ones((len(x), 1)), x[:, :N], axis=1)\n",
        "    return np.sign(np.dot(x_aug, a))\n",
        "  return output_function\n",
        "\n",
        "#calculates MSE between two vectors\n",
        "def MSE(y_1, y_2): return (1/len(y_1))*np.linalg.norm(y_1 - y_2)**2"
      ]
    }
  ]
}